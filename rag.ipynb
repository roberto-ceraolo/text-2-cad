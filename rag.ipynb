{
 "cells": [
  {
   "cell_type": "markdown",
   "metadata": {},
   "source": [
    "# RAG Experiments"
   ]
  },
  {
   "cell_type": "code",
   "execution_count": null,
   "metadata": {},
   "outputs": [
    {
     "name": "stdout",
     "output_type": "stream",
     "text": [
      "Empty Response\n"
     ]
    }
   ],
   "source": [
    "import chromadb\n",
    "from llama_index import VectorStoreIndex\n",
    "from llama_index.vector_stores import ChromaVectorStore\n",
    "from llama_index.storage.storage_context import StorageContext\n",
    "\n",
    "# initialize client\n",
    "db = chromadb.PersistentClient(path=\"./chroma_db\")\n",
    "\n",
    "# get collection\n",
    "chroma_collection = db.get_or_create_collection(\"quickstart\")\n",
    "\n",
    "# assign chroma as the vector_store to the context\n",
    "vector_store = ChromaVectorStore(chroma_collection=chroma_collection)\n",
    "storage_context = StorageContext.from_defaults(persist_dir=\"index\")\n",
    "\n",
    "\n",
    "# load your index from stored vectors\n",
    "index = VectorStoreIndex.from_vector_store(\n",
    "    vector_store, storage_context=storage_context\n",
    ")\n",
    "\n",
    "# create a query engine\n",
    "query_engine = index.as_query_engine()\n",
    "response = query_engine.query('How do you generate horns?')\n",
    "print(response)"
   ]
  },
  {
   "cell_type": "code",
   "execution_count": null,
   "metadata": {},
   "outputs": [],
   "source": [
    "# generation of index\n",
    "from llama_index import VectorStoreIndex, download_loader\n",
    "\n",
    "SimpleWebPageReader = download_loader(\"SimpleWebPageReader\")\n",
    "\n",
    "loader = SimpleWebPageReader()\n",
    "documents = loader.load_data(urls=['https://en.wikibooks.org/wiki/OpenSCAD_User_Manual/Print_version'])\n",
    "index = VectorStoreIndex.from_documents(documents)\n",
    "\n"
   ]
  },
  {
   "cell_type": "code",
   "execution_count": null,
   "metadata": {},
   "outputs": [
    {
     "name": "stdout",
     "output_type": "stream",
     "text": [
      "To create the OpenSCAD code to generate a horn, you can use the following code:\n",
      "\n",
      "```\n",
      "module horn() {\n",
      "    // set some width and center it\n",
      "    linear_extrude(height = wing_w, center = true)\n",
      "        // make a triangle\n",
      "        polygon(wing_points);\n",
      "}\n",
      "\n",
      "for (i = [0: many - 1])\n",
      "    rotate([0, 0, 370 / many * i])\n",
      "        horn();\n",
      "```\n",
      "\n",
      "This code defines a module called \"horn\" which creates a triangle shape using the \"polygon\" function and then extrudes it using the \"linear_extrude\" function. The \"for\" loop is used to rotate and generate multiple instances of the horn by calling the \"horn\" module.\n"
     ]
    }
   ],
   "source": [
    "# index.storage_context.persist(persist_dir=\"index\")\n",
    "\n",
    "import chromadb\n",
    "from llama_index import VectorStoreIndex, SimpleDirectoryReader\n",
    "from llama_index.vector_stores import ChromaVectorStore\n",
    "from llama_index.storage.storage_context import StorageContext\n",
    "from llama_index import StorageContext, load_index_from_storage\n",
    "\n",
    "# rebuild storage context\n",
    "storage_context = StorageContext.from_defaults(persist_dir=\"index\")\n",
    "\n",
    "# load index\n",
    "index = load_index_from_storage(storage_context)\n",
    "\n",
    "# initialize client, setting path to save data\n",
    "db = chromadb.PersistentClient(path=\"./chroma_db\")\n",
    "\n",
    "# create collection\n",
    "chroma_collection = db.get_or_create_collection(\"quickstart\")\n",
    "\n",
    "# assign chroma as the vector_store to the context\n",
    "vector_store = ChromaVectorStore(chroma_collection=chroma_collection)\n",
    "storage_context = StorageContext.from_defaults(vector_store=vector_store)\n",
    "\n",
    "# create a query engine and query\n",
    "query_engine = index.as_query_engine()\n",
    "response = query_engine.query(\"Create the OpenSCAD code to generate a horn\")\n",
    "print(response)\n"
   ]
  },
  {
   "cell_type": "code",
   "execution_count": null,
   "metadata": {},
   "outputs": [
    {
     "name": "stdout",
     "output_type": "stream",
     "text": [
      "The context information describes the code for creating a rocket model using a programming language. It includes the dimensions and shapes of different parts of the rocket, such as the head (a cone) and the wings (triangles). However, without any specific question or request, it is not possible to provide a more detailed answer about the rocket.\n"
     ]
    }
   ],
   "source": [
    "response = query_engine.query(\"Rocket\")\n",
    "print(response)"
   ]
  },
  {
   "cell_type": "code",
   "execution_count": null,
   "metadata": {},
   "outputs": [
    {
     "name": "stdout",
     "output_type": "stream",
     "text": [
      "</span><span class=\"w\"> </span><span class=\"n\">h</span><span class=\"w\"> </span><span class=\"o\">=</span><span class=\"w\"> </span><span class=\"n\">rocket_h</span><span class=\"p\">);</span>\n",
      "\n",
      "<span class=\"c1\">// the head&#160;:</span>\n",
      "<span class=\"c1\">// a cone</span>\n",
      "<span class=\"n\">head_d</span><span class=\"w\"> </span><span class=\"o\">=</span><span class=\"w\"> </span><span class=\"mi\">40</span><span class=\"p\">;</span><span class=\"w\">  \t\t\t\t</span><span class=\"c1\">// 4 cm wide</span>\n",
      "<span class=\"n\">head_r</span><span class=\"w\"> </span><span class=\"o\">=</span><span class=\"w\"> </span><span class=\"n\">head_d</span><span class=\"w\"> </span><span class=\"o\">/</span><span class=\"w\"> </span><span class=\"mi\">2</span><span class=\"p\">;</span>\n",
      "<span class=\"n\">head_h</span><span class=\"w\"> </span><span class=\"o\">=</span><span class=\"w\"> </span><span class=\"mi\">40</span><span class=\"p\">;</span><span class=\"w\">  \t\t\t\t</span><span class=\"c1\">// 4 cm tall</span>\n",
      "<span class=\"c1\">// prepare a triangle</span>\n",
      "<span class=\"n\">tri_base</span><span class=\"w\"> </span><span class=\"o\">=</span><span class=\"w\"> </span><span class=\"n\">head_r</span><span class=\"p\">;</span>\n",
      "<span class=\"n\">tri_height</span><span class=\"w\"> </span><span class=\"o\">=</span><span class=\"w\"> </span><span class=\"n\">head_h</span><span class=\"p\">;</span>\n",
      "<span class=\"n\">tri_points</span><span class=\"w\"> </span><span class=\"o\">=</span><span class=\"w\"> </span><span class=\"p\">[[</span><span class=\"mi\">0</span><span class=\"p\">,</span><span class=\"w\">\t\t\t </span><span class=\"mi\">0</span><span class=\"p\">],</span>\n",
      "<span class=\"w\">\t\t\t  </span><span class=\"p\">[</span><span class=\"n\">tri_base</span><span class=\"p\">,</span><span class=\"w\">\t </span><span class=\"mi\">0</span><span class=\"p\">],</span>\n",
      "<span class=\"w\">\t\t\t  </span><span class=\"p\">[</span><span class=\"mi\">0</span><span class=\"p\">,</span><span class=\"w\">\t</span><span class=\"n\">tri_height</span><span class=\"p\">]];</span>\n",
      "<span class=\"c1\">// rotation around X-axis and then 360° around Z-axis</span>\n",
      "<span class=\"c1\">// put it on top of the rocket&#39;s body</span>\n",
      "<span class=\"n\">translate</span><span class=\"p\">([</span><span class=\"mi\">0</span><span class=\"p\">,</span><span class=\"mi\">0</span><span class=\"p\">,</span><span class=\"n\">rocket_h</span><span class=\"p\">])</span>\n",
      "<span class=\"n\">rotate_extrude</span><span class=\"p\">(</span><span class=\"n\">angle</span><span class=\"w\"> </span><span class=\"o\">=</span><span class=\"w\"> </span><span class=\"mi\">360</span><span class=\"p\">)</span>\n",
      "<span class=\"w\">\t</span><span class=\"n\">polygon</span><span class=\"p\">(</span><span class=\"n\">tri_points</span><span class=\"p\">);</span>\n",
      "\n",
      "<span class=\"c1\">// the wings&#160;:</span>\n",
      "<span class=\"c1\">// 3x triangles</span>\n",
      "<span class=\"n\">wing_w</span><span class=\"w\"> </span><span class=\"o\">=</span><span class=\"w\"> </span><span class=\"mi\">2</span><span class=\"p\">;\n"
     ]
    }
   ],
   "source": [
    "print(response.source_nodes[0].text)\n",
    "#sources = response.get_formatted_sources()\n"
   ]
  }
 ],
 "metadata": {
  "language_info": {
   "name": "python"
  }
 },
 "nbformat": 4,
 "nbformat_minor": 2
}
